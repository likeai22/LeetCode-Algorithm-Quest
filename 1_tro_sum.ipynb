{
 "cells": [
  {
   "metadata": {
    "ExecuteTime": {
     "end_time": "2024-10-11T05:12:18.325078Z",
     "start_time": "2024-10-11T05:12:18.318550Z"
    }
   },
   "cell_type": "code",
   "source": "from typing import List",
   "id": "9839034f744d41b",
   "outputs": [],
   "execution_count": 1
  },
  {
   "metadata": {
    "ExecuteTime": {
     "end_time": "2024-10-11T05:12:18.353534Z",
     "start_time": "2024-10-11T05:12:18.349070Z"
    }
   },
   "cell_type": "code",
   "source": [
    "# class Solution:  # brute force\n",
    "#     def twoSum(self, nums: List[int], target: int) -> List[int]:\n",
    "#         if not (2 <= len(nums) <= 10000) or not (-(10**9) <= target <= 10**9):\n",
    "#             raise ValueError(\"2 <= nums.length <= 10^4, -10^9 <= target <= 10^9\")\n",
    "#         for i, first_num in enumerate(nums):\n",
    "#             if not (-(10**9) <= first_num <= 10**9):\n",
    "#                 raise ValueError(\n",
    "#                     f\"Element nums[{i}] = {first_num} is out of allowed range -10^9 <= nums[i] <= 10^9\"\n",
    "#                 )\n",
    "#             for j, second_num in enumerate(nums[i + 1 :]):\n",
    "#                 if first_num + second_num == target:\n",
    "#                     return [i, j + i + 1]"
   ],
   "id": "6449328f5951ae74",
   "outputs": [],
   "execution_count": 2
  },
  {
   "metadata": {
    "ExecuteTime": {
     "end_time": "2024-10-11T05:12:18.466971Z",
     "start_time": "2024-10-11T05:12:18.462165Z"
    }
   },
   "cell_type": "code",
   "source": [
    "# class Solution:\n",
    "#     def twoSum(self, nums: List[int], target: int) -> List[int]:\n",
    "#         seen = {}\n",
    "#         if not (2 <= len(nums) <= 10000) or not (-(10**9) <= target <= 10**9):\n",
    "#             raise ValueError(\"2 <= nums.length <= 10^4, -10^9 <= target <= 10^9\")\n",
    "#         for i, num in enumerate(nums):\n",
    "#             if not (-(10**9) <= num <= 10**9):\n",
    "#                 raise ValueError(\n",
    "#                     f\"Element nums[{i}] = {num} is out of allowed range -10^9 <= nums[i] <= 10^9\"\n",
    "#                 )\n",
    "#             complement = target - num\n",
    "#             if complement in seen:\n",
    "#                 return [seen[complement], i]\n",
    "#             seen[num] = i\n",
    "#         return []"
   ],
   "id": "d6b060842b41953f",
   "outputs": [],
   "execution_count": 3
  },
  {
   "metadata": {
    "ExecuteTime": {
     "end_time": "2024-10-11T05:12:18.695373Z",
     "start_time": "2024-10-11T05:12:18.684225Z"
    }
   },
   "cell_type": "code",
   "source": [
    "class Solution:  # brute force\n",
    "    def __init__(self, nums: List[int], target: int):\n",
    "        self.target = target\n",
    "        self.nums = nums\n",
    "        if not (2 <= len(self.nums) <= 10000) or not (-(10**9) <= self.target <= 10**9):\n",
    "            raise ValueError(\"2 <= nums.length <= 10^4, -10^9 <= target <= 10^9\")\n",
    "        for i, item in enumerate(self.nums):\n",
    "            if not (-(10**9) <= item <= 10**9):\n",
    "                raise ValueError(\n",
    "                    f\"Element nums[{i}] = {item} is out of allowed range -10^9 <= nums[i] <= 10^9\"\n",
    "                )\n",
    "\n",
    "    def twoSum(self) -> List[int]:\n",
    "        for i, first_num in enumerate(self.nums):\n",
    "            for j, second_num in enumerate(self.nums[i + 1 :]):\n",
    "                if first_num + second_num == self.target:\n",
    "                    return [i, j + i + 1]\n",
    "\n",
    "    def twoSum2(self):\n",
    "        seen = {}\n",
    "        for i, num in enumerate(self.nums):\n",
    "            complement = self.target - num\n",
    "            if complement in seen:\n",
    "                return [seen[complement], i]\n",
    "            seen[num] = i\n",
    "        return []"
   ],
   "id": "ed3209456298bb8c",
   "outputs": [],
   "execution_count": 4
  },
  {
   "metadata": {
    "ExecuteTime": {
     "end_time": "2024-10-11T05:12:18.820845Z",
     "start_time": "2024-10-11T05:12:18.814385Z"
    }
   },
   "cell_type": "code",
   "source": [
    "sol = Solution(nums=[2, 7, 11, 15], target=26)\n",
    "print(sol.twoSum())\n",
    "print(sol.twoSum2())"
   ],
   "id": "2ddaf8ec4734350e",
   "outputs": [
    {
     "name": "stdout",
     "output_type": "stream",
     "text": [
      "[2, 3]\n",
      "[2, 3]\n"
     ]
    }
   ],
   "execution_count": 5
  },
  {
   "metadata": {
    "ExecuteTime": {
     "end_time": "2024-10-11T05:12:18.917140Z",
     "start_time": "2024-10-11T05:12:18.911198Z"
    }
   },
   "cell_type": "code",
   "source": [
    "sol = Solution(nums=[3, 2, 4], target=6)\n",
    "print(sol.twoSum())\n",
    "print(sol.twoSum2())"
   ],
   "id": "24838ce701c79501",
   "outputs": [
    {
     "name": "stdout",
     "output_type": "stream",
     "text": [
      "[1, 2]\n",
      "[1, 2]\n"
     ]
    }
   ],
   "execution_count": 6
  },
  {
   "metadata": {
    "ExecuteTime": {
     "end_time": "2024-10-11T05:12:18.999895Z",
     "start_time": "2024-10-11T05:12:18.993153Z"
    }
   },
   "cell_type": "code",
   "source": [
    "sol = Solution(nums=[3, 3], target=6)\n",
    "print(sol.twoSum())\n",
    "print(sol.twoSum2())"
   ],
   "id": "4558d0651d2c75b1",
   "outputs": [
    {
     "name": "stdout",
     "output_type": "stream",
     "text": [
      "[0, 1]\n",
      "[0, 1]\n"
     ]
    }
   ],
   "execution_count": 7
  }
 ],
 "metadata": {
  "kernelspec": {
   "display_name": "Python 3",
   "language": "python",
   "name": "python3"
  },
  "language_info": {
   "codemirror_mode": {
    "name": "ipython",
    "version": 2
   },
   "file_extension": ".py",
   "mimetype": "text/x-python",
   "name": "python",
   "nbconvert_exporter": "python",
   "pygments_lexer": "ipython2",
   "version": "2.7.6"
  }
 },
 "nbformat": 4,
 "nbformat_minor": 5
}
